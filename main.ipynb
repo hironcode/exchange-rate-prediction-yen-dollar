{
 "cells": [
  {
   "cell_type": "markdown",
   "metadata": {},
   "source": [
    "# Preperation"
   ]
  },
  {
   "cell_type": "code",
   "execution_count": 1,
   "metadata": {},
   "outputs": [
    {
     "name": "stderr",
     "output_type": "stream",
     "text": [
      "Importing plotly failed. Interactive plots will not work.\n"
     ]
    }
   ],
   "source": [
    "import numpy as np\n",
    "import pandas as pd\n",
    "import optuna\n",
    "from prophet import Prophet\n",
    "from prophet.diagnostics import cross_validation\n",
    "from prophet.diagnostics import performance_metrics\n",
    "from sklearn.model_selection import train_test_split\n",
    "from sklearn.metrics import mean_absolute_error, mean_squared_error, mean_absolute_percentage_error, f1_score\n",
    "import matplotlib.pyplot as plt\n",
    "import datetime as dt"
   ]
  },
  {
   "cell_type": "code",
   "execution_count": 2,
   "metadata": {},
   "outputs": [],
   "source": [
    "import formatting\n",
    "import optimization\n",
    "import visualization\n",
    "import valuation"
   ]
  },
  {
   "cell_type": "code",
   "execution_count": 4,
   "metadata": {
    "scrolled": false
   },
   "outputs": [],
   "source": [
    "df_er, df_dint, df_yint = formatting.read()\n",
    "df_er, df_dint, df_yint = formatting.format(df_er, df_dint, df_yint)"
   ]
  },
  {
   "cell_type": "markdown",
   "metadata": {},
   "source": [
    "# US interest rate prediction"
   ]
  },
  {
   "cell_type": "code",
   "execution_count": 11,
   "metadata": {},
   "outputs": [],
   "source": [
    "df_dint_p = formatting.format_prophet(df_dint, date_start='1993-10-1', date_end='2023-09-01')"
   ]
  },
  {
   "cell_type": "code",
   "execution_count": 9,
   "metadata": {},
   "outputs": [],
   "source": [
    "test_size = 36"
   ]
  },
  {
   "cell_type": "code",
   "execution_count": 10,
   "metadata": {},
   "outputs": [],
   "source": [
    "df_dint_train, df_dint_test = optimization.split_train_test(df_dint_p, test_size)"
   ]
  },
  {
   "cell_type": "code",
   "execution_count": 8,
   "metadata": {
    "scrolled": false
   },
   "outputs": [],
   "source": [
    "# visualization.visualize(df_dint_train, df_dint_test)"
   ]
  },
  {
   "cell_type": "code",
   "execution_count": null,
   "metadata": {},
   "outputs": [],
   "source": [
    "study_d = optimization.get_best_params(df_dint_train, df_dint_test, test_size)"
   ]
  },
  {
   "cell_type": "code",
   "execution_count": null,
   "metadata": {},
   "outputs": [],
   "source": [
    "# train the model and see the accuracy\n",
    "m_d = Prophet(**study_d.best_params)\n",
    "m_d.fit(df_dint_train)\n",
    "visualization.assess(m_d, test_size, df_dint_p, df_dint_train, df_dint_test)"
   ]
  },
  {
   "cell_type": "code",
   "execution_count": null,
   "metadata": {},
   "outputs": [],
   "source": [
    "# predict future dollar interest rate\n",
    "m_d = Prophet(**study_d.best_params)\n",
    "m_d.fit(df_dint_p)\n",
    "future_d = m_d.make_future_dataframe(periods=12, freq='M')\n",
    "forecast_d = m_d.predict(future_d)"
   ]
  },
  {
   "cell_type": "code",
   "execution_count": null,
   "metadata": {},
   "outputs": [],
   "source": [
    "plot.plot_plotly(m_d, forecast_d)"
   ]
  },
  {
   "cell_type": "markdown",
   "metadata": {},
   "source": [
    "# Yen interest rate prediction"
   ]
  },
  {
   "cell_type": "code",
   "execution_count": 12,
   "metadata": {},
   "outputs": [],
   "source": [
    "df_yint_p = formatting.format_prophet(df_yint, date_start='1993-10-1', date_end='2023-09-01')"
   ]
  },
  {
   "cell_type": "code",
   "execution_count": 13,
   "metadata": {},
   "outputs": [],
   "source": [
    "test_size = 36"
   ]
  },
  {
   "cell_type": "code",
   "execution_count": 14,
   "metadata": {},
   "outputs": [],
   "source": [
    "df_yint_train, df_yint_test = optimization.split_train_test(df_yint_p, test_size)"
   ]
  },
  {
   "cell_type": "code",
   "execution_count": null,
   "metadata": {},
   "outputs": [],
   "source": [
    "# visualization.visualize(df_dint_train, df_dint_test)"
   ]
  },
  {
   "cell_type": "code",
   "execution_count": null,
   "metadata": {},
   "outputs": [],
   "source": [
    "study_y = optimization.get_best_params(df_yint_train, df_yint_test, test_size)"
   ]
  },
  {
   "cell_type": "code",
   "execution_count": null,
   "metadata": {},
   "outputs": [],
   "source": [
    "# train the model and see the accuracy\n",
    "m_y = Prophet(**study_y.best_params)\n",
    "m_y.fit(df_yint_train)\n",
    "visualization.assess(m_y, test_size, df_yint_p, df_yint_train, df_yint_test)"
   ]
  },
  {
   "cell_type": "code",
   "execution_count": null,
   "metadata": {},
   "outputs": [],
   "source": [
    "# predict future dollar interest rate\n",
    "m_y = Prophet(**study_y.best_params)\n",
    "m_y.fit(df_yint_p)\n",
    "future_y = m_y.make_future_dataframe(periods=12, freq='M')\n",
    "forecast_y = m_y.predict(future_y)"
   ]
  },
  {
   "cell_type": "code",
   "execution_count": null,
   "metadata": {},
   "outputs": [],
   "source": [
    "plot.plot_plotly(m_y, forecast_y)"
   ]
  },
  {
   "cell_type": "markdown",
   "metadata": {},
   "source": [
    "# Exchange rate prediction"
   ]
  },
  {
   "cell_type": "code",
   "execution_count": 15,
   "metadata": {},
   "outputs": [],
   "source": [
    "df_er_p = formatting.format_prophet(df_er, date_start='1993-10-1', date_end='2023-09-01')"
   ]
  },
  {
   "cell_type": "code",
   "execution_count": 18,
   "metadata": {},
   "outputs": [],
   "source": [
    "df = formatting.format_er(df_er_p, df_dint_p, df_yint_p)"
   ]
  },
  {
   "cell_type": "code",
   "execution_count": 19,
   "metadata": {},
   "outputs": [],
   "source": [
    "test_size=36\n",
    "df_train, df_test = optimization.split_train_test(df, test_size)"
   ]
  },
  {
   "cell_type": "code",
   "execution_count": null,
   "metadata": {},
   "outputs": [],
   "source": [
    "study = optimization.get_best_params(df_train, df_test, test_size)"
   ]
  },
  {
   "cell_type": "code",
   "execution_count": null,
   "metadata": {},
   "outputs": [],
   "source": [
    "# train the model\n",
    "m = Prophet(**study.best_params)\n",
    "m.fit(df_train)\n",
    "# scores\n",
    "visualization.assess(m, test_length, df, df_train, df_test)"
   ]
  },
  {
   "cell_type": "code",
   "execution_count": null,
   "metadata": {},
   "outputs": [],
   "source": [
    "# create a prophet model\n",
    "m = Prophet(**study.best_params)\n",
    "\n",
    "m.add_regressor('ir_dollar')\n",
    "m.add_regressor('ir_yen')\n",
    "m.fit(df)"
   ]
  },
  {
   "cell_type": "code",
   "execution_count": null,
   "metadata": {},
   "outputs": [],
   "source": [
    "# get a dataframe for prediciton and predict\n",
    "# cap is the highest limit price set for prediction\n",
    "# future_start_date is the first datetime of which the model should predict the exchange rate\n",
    "# Because Prophet.make_future_dataframe() creates datetimes of the end day of each month,\n",
    "# we set 2023-09-30\n",
    "future = formatting.format_er_future(df_dint_p, forecast_d, df_yint_p, forecast_y, \n",
    "                                     cap=158, future_start_date='2023-09-30')\n",
    "forecast = m.predict(future)"
   ]
  },
  {
   "cell_type": "code",
   "execution_count": null,
   "metadata": {},
   "outputs": [],
   "source": [
    "plot.plot_plotly(m, forecast)"
   ]
  },
  {
   "cell_type": "code",
   "execution_count": null,
   "metadata": {},
   "outputs": [],
   "source": [
    "plot.plot_components_plotly(m, forecast)"
   ]
  },
  {
   "cell_type": "markdown",
   "metadata": {},
   "source": [
    "# References"
   ]
  },
  {
   "cell_type": "raw",
   "metadata": {},
   "source": [
    "Prophetモデルの概要とOptunaで自動でチューニングする方法\n",
    "https://book.st-hakky.com/data-science/prophet-model-predicts/\n",
    "\n",
    "【完全版】Prophetー時系列分析の基本から外部変数追加、holidaysの追加、ハイパーパラメータの調整まで(python)\n",
    "https://tora3data.com/prophet/\n",
    "\n",
    "Prophetの使い方メモ\n",
    "https://qiita.com/tchih11/items/42fc0d52a1486ba64b5d\n",
    "\n",
    "【データ分析】ProphetのQucik Start\n",
    "https://note.com/aaaki_t1/n/n238ca08ff034"
   ]
  }
 ],
 "metadata": {
  "kernelspec": {
   "display_name": "Python 3 (ipykernel)",
   "language": "python",
   "name": "python3"
  },
  "language_info": {
   "codemirror_mode": {
    "name": "ipython",
    "version": 3
   },
   "file_extension": ".py",
   "mimetype": "text/x-python",
   "name": "python",
   "nbconvert_exporter": "python",
   "pygments_lexer": "ipython3",
   "version": "3.10.8"
  },
  "varInspector": {
   "cols": {
    "lenName": 16,
    "lenType": 16,
    "lenVar": 40
   },
   "kernels_config": {
    "python": {
     "delete_cmd_postfix": "",
     "delete_cmd_prefix": "del ",
     "library": "var_list.py",
     "varRefreshCmd": "print(var_dic_list())"
    },
    "r": {
     "delete_cmd_postfix": ") ",
     "delete_cmd_prefix": "rm(",
     "library": "var_list.r",
     "varRefreshCmd": "cat(var_dic_list()) "
    }
   },
   "types_to_exclude": [
    "module",
    "function",
    "builtin_function_or_method",
    "instance",
    "_Feature"
   ],
   "window_display": false
  }
 },
 "nbformat": 4,
 "nbformat_minor": 2
}
